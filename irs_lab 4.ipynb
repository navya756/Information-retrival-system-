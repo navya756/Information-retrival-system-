{
  "nbformat": 4,
  "nbformat_minor": 0,
  "metadata": {
    "colab": {
      "provenance": []
    },
    "kernelspec": {
      "name": "python3",
      "display_name": "Python 3"
    },
    "language_info": {
      "name": "python"
    }
  },
  "cells": [
    {
      "cell_type": "code",
      "execution_count": 2,
      "metadata": {
        "colab": {
          "base_uri": "https://localhost:8080/"
        },
        "id": "yfkMKAuKIDEQ",
        "outputId": "384c25b5-4c54-4a2c-e863-c5c7efd35dfb"
      },
      "outputs": [
        {
          "output_type": "stream",
          "name": "stderr",
          "text": [
            "[nltk_data] Downloading package punkt to /root/nltk_data...\n",
            "[nltk_data]   Package punkt is already up-to-date!\n",
            "[nltk_data] Downloading package stopwords to /root/nltk_data...\n",
            "[nltk_data]   Package stopwords is already up-to-date!\n",
            "[nltk_data] Downloading package wordnet to /root/nltk_data...\n",
            "[nltk_data]   Package wordnet is already up-to-date!\n",
            "[nltk_data] Downloading package punkt_tab to /root/nltk_data...\n",
            "[nltk_data]   Unzipping tokenizers/punkt_tab.zip.\n"
          ]
        },
        {
          "output_type": "stream",
          "name": "stdout",
          "text": [
            "Tokens: ['One', 'day', ',', 'Leo', ',', 'a', 'young', 'and', 'boastful', 'lion', ',', 'challenged', 'Ellie', 'to', 'a', 'strength', 'contest', '.', 'But', 'Ellie', 'proposed', 'a', 'different', 'challenge', ':', 'to', 'make', 'the', 'most', 'animals', 'smile', 'in', 'a', 'day', '.']\n",
            "Tokens after removing stop words: ['One', 'day', ',', 'Leo', ',', 'young', 'boastful', 'lion', ',', 'challenged', 'Ellie', 'strength', 'contest', '.', 'Ellie', 'proposed', 'different', 'challenge', ':', 'make', 'animals', 'smile', 'day', '.']\n",
            "Stemmed tokens: ['one', 'day', ',', 'leo', ',', 'young', 'boast', 'lion', ',', 'challeng', 'elli', 'strength', 'contest', '.', 'elli', 'propos', 'differ', 'challeng', ':', 'make', 'anim', 'smile', 'day', '.']\n",
            "Lemmatized tokens: ['One', 'day', ',', 'Leo', ',', 'young', 'boastful', 'lion', ',', 'challenged', 'Ellie', 'strength', 'contest', '.', 'Ellie', 'proposed', 'different', 'challenge', ':', 'make', 'animal', 'smile', 'day', '.']\n"
          ]
        }
      ],
      "source": [
        "import nltk\n",
        "from nltk.tokenize import word_tokenize\n",
        "from nltk.corpus import stopwords\n",
        "from nltk.stem import PorterStemmer, WordNetLemmatizer\n",
        "\n",
        "\n",
        "nltk.download('punkt')\n",
        "nltk.download('stopwords')\n",
        "nltk.download('wordnet')\n",
        "nltk.download('punkt_tab')\n",
        "\n",
        "# Input sentence\n",
        "sentence = \"One day, Leo, a young and boastful lion, challenged Ellie to a strength contest. But Ellie proposed a different challenge: to make the most animals smile in a day.\"\n",
        "\n",
        "# Tokenization\n",
        "tokens = word_tokenize(sentence)\n",
        "print(\"Tokens:\", tokens)\n",
        "\n",
        "# Removing stop words\n",
        "stop_words = set(stopwords.words('english'))\n",
        "filtered_tokens = [word for word in tokens if word.lower() not in stop_words]\n",
        "print(\"Tokens after removing stop words:\", filtered_tokens)\n",
        "\n",
        "# Stemming\n",
        "stemmer = PorterStemmer()\n",
        "stemmed_tokens = [stemmer.stem(word) for word in filtered_tokens]\n",
        "print(\"Stemmed tokens:\", stemmed_tokens)\n",
        "\n",
        "# Lemmatization\n",
        "lemmatizer = WordNetLemmatizer()\n",
        "lemmatized_tokens = [lemmatizer.lemmatize(word) for word in filtered_tokens]\n",
        "print(\"Lemmatized tokens:\", lemmatized_tokens)\n"
      ]
    },
    {
      "cell_type": "code",
      "source": [
        "from collections import Counter\n",
        "from nltk import ngrams\n",
        "import nltk\n",
        "\n",
        "# Make sure to download required nltk data\n",
        "nltk.download('punkt')\n",
        "\n",
        "# Sample text\n",
        "text = \"One day, Leo, a young and boastful lion, challenged Ellie to a strength contest. But Ellie proposed a different challenge: to make the most animals smile in a day.\"\n",
        "\n",
        "# Tokenize text into words\n",
        "words = nltk.word_tokenize(text.lower())\n",
        "\n",
        "# Unigrams\n",
        "unigrams = Counter(words)\n",
        "print(\"Unigrams:\")\n",
        "print(unigrams)\n",
        "\n",
        "# Bigrams\n",
        "bigrams = Counter(ngrams(words, 2))\n",
        "print(\"\\nBigrams:\")\n",
        "print(bigrams)\n",
        "\n",
        "# Trigrams\n",
        "trigrams = Counter(ngrams(words, 3))\n",
        "print(\"\\nTrigrams:\")\n",
        "print(trigrams)\n"
      ],
      "metadata": {
        "colab": {
          "base_uri": "https://localhost:8080/"
        },
        "id": "35mi702rJL43",
        "outputId": "e9528636-e4de-46c6-aea5-6ccb35ce9667"
      },
      "execution_count": 3,
      "outputs": [
        {
          "output_type": "stream",
          "name": "stdout",
          "text": [
            "Unigrams:\n",
            "Counter({'a': 4, ',': 3, 'day': 2, 'ellie': 2, 'to': 2, '.': 2, 'one': 1, 'leo': 1, 'young': 1, 'and': 1, 'boastful': 1, 'lion': 1, 'challenged': 1, 'strength': 1, 'contest': 1, 'but': 1, 'proposed': 1, 'different': 1, 'challenge': 1, ':': 1, 'make': 1, 'the': 1, 'most': 1, 'animals': 1, 'smile': 1, 'in': 1})\n",
            "\n",
            "Bigrams:\n",
            "Counter({('one', 'day'): 1, ('day', ','): 1, (',', 'leo'): 1, ('leo', ','): 1, (',', 'a'): 1, ('a', 'young'): 1, ('young', 'and'): 1, ('and', 'boastful'): 1, ('boastful', 'lion'): 1, ('lion', ','): 1, (',', 'challenged'): 1, ('challenged', 'ellie'): 1, ('ellie', 'to'): 1, ('to', 'a'): 1, ('a', 'strength'): 1, ('strength', 'contest'): 1, ('contest', '.'): 1, ('.', 'but'): 1, ('but', 'ellie'): 1, ('ellie', 'proposed'): 1, ('proposed', 'a'): 1, ('a', 'different'): 1, ('different', 'challenge'): 1, ('challenge', ':'): 1, (':', 'to'): 1, ('to', 'make'): 1, ('make', 'the'): 1, ('the', 'most'): 1, ('most', 'animals'): 1, ('animals', 'smile'): 1, ('smile', 'in'): 1, ('in', 'a'): 1, ('a', 'day'): 1, ('day', '.'): 1})\n",
            "\n",
            "Trigrams:\n",
            "Counter({('one', 'day', ','): 1, ('day', ',', 'leo'): 1, (',', 'leo', ','): 1, ('leo', ',', 'a'): 1, (',', 'a', 'young'): 1, ('a', 'young', 'and'): 1, ('young', 'and', 'boastful'): 1, ('and', 'boastful', 'lion'): 1, ('boastful', 'lion', ','): 1, ('lion', ',', 'challenged'): 1, (',', 'challenged', 'ellie'): 1, ('challenged', 'ellie', 'to'): 1, ('ellie', 'to', 'a'): 1, ('to', 'a', 'strength'): 1, ('a', 'strength', 'contest'): 1, ('strength', 'contest', '.'): 1, ('contest', '.', 'but'): 1, ('.', 'but', 'ellie'): 1, ('but', 'ellie', 'proposed'): 1, ('ellie', 'proposed', 'a'): 1, ('proposed', 'a', 'different'): 1, ('a', 'different', 'challenge'): 1, ('different', 'challenge', ':'): 1, ('challenge', ':', 'to'): 1, (':', 'to', 'make'): 1, ('to', 'make', 'the'): 1, ('make', 'the', 'most'): 1, ('the', 'most', 'animals'): 1, ('most', 'animals', 'smile'): 1, ('animals', 'smile', 'in'): 1, ('smile', 'in', 'a'): 1, ('in', 'a', 'day'): 1, ('a', 'day', '.'): 1})\n"
          ]
        },
        {
          "output_type": "stream",
          "name": "stderr",
          "text": [
            "[nltk_data] Downloading package punkt to /root/nltk_data...\n",
            "[nltk_data]   Package punkt is already up-to-date!\n"
          ]
        }
      ]
    }
  ]
}